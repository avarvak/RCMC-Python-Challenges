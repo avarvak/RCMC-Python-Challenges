{
 "cells": [
  {
   "cell_type": "markdown",
   "metadata": {},
   "source": [
    "# ClockTime: Intro to Classes\n",
    "\n",
    "## Objective: create a class of ClockTime objects.\n",
    "\n",
    "This is an introduction to defining your own classes."
   ]
  },
  {
   "cell_type": "markdown",
   "metadata": {},
   "source": [
    "## Example 1: How to define a class of objects\n",
    "\n",
    "An **object** knows something, and can do something.  \n",
    "\n",
    "That is, an object has some internal variables whose values the object remembers (these are called \"attributes\" of the object), and it knows how to call up some functions (these are called \"methods\" of the object).\n",
    "\n",
    "The code below defines a class of objects called \"ClockTime\". \n",
    "\n",
    "### \\_\\_init\\_\\_ method\n",
    "\n",
    "The class has, so far, only one method: the \"\\_\\_init\\_\\_\" method, which initiates an instance of an object. \n",
    "The the first parameter of any class method must be a reference to the object itself, which is why we call it \"self\".\n",
    "\n",
    "The ClockTime object knows nothing and can do nothing--except how to create a ClockTime object.\n",
    "\n",
    "Go ahead and run the code.\n"
   ]
  },
  {
   "cell_type": "code",
   "execution_count": 1,
   "metadata": {},
   "outputs": [
    {
     "name": "stdout",
     "output_type": "stream",
     "text": [
      "<__main__.ClockTime object at 0x000002604F145B70>\n"
     ]
    }
   ],
   "source": [
    "class ClockTime:\n",
    "    \n",
    "    def __init__(self):\n",
    "        pass\n",
    "    \n",
    "# test the class\n",
    "time_in = ClockTime()  \n",
    "print(time_in)"
   ]
  },
  {
   "cell_type": "markdown",
   "metadata": {},
   "source": [
    "## Example 2: Make ClockTime more knowledgeable.\n",
    "\n",
    "The ClockTime object should at least know its hour, minute, and whether it's in the \"am\" or \"pm\".\n",
    "Let's require that info when a ClockTime object is created, and put that info into the object's attributes.  \n",
    "\n",
    "**Attributes** are the object's special internal variables attached to its \"self\".  In the __init__ method below, we have created three internal attributes: hr, mn, and ap.\n",
    "\n",
    "Notice how we can access those attributes after we create a ClockTime object.\n"
   ]
  },
  {
   "cell_type": "code",
   "execution_count": 2,
   "metadata": {},
   "outputs": [
    {
     "name": "stdout",
     "output_type": "stream",
     "text": [
      "<__main__.ClockTime object at 0x000002604F16CA58>\n",
      "9\n",
      "30\n",
      "pm\n"
     ]
    }
   ],
   "source": [
    "class ClockTime:\n",
    "    \n",
    "    def __init__(self, hour, minute, ampm):\n",
    "        self.hr = hour\n",
    "        self.mn = minute\n",
    "        self.ap = ampm\n",
    "    \n",
    "# test the class\n",
    "time_in = ClockTime(9,30,\"pm\")  \n",
    "print(time_in)\n",
    "print(time_in.hr)\n",
    "print(time_in.mn)\n",
    "print(time_in.ap)"
   ]
  },
  {
   "cell_type": "markdown",
   "metadata": {},
   "source": [
    "## Example 3: Make ClockTime print nicely\n",
    "\n",
    "When printing an object, the **print()** function checks if the object has a **\\_\\_str\\_\\_** method.  The \\_\\_str\\_\\_ method should have only one parameter--the object it-\"self\"--and must return a string.  The print function then prints that string.\n",
    "\n",
    "Notice how we can reference the ClockTime object's attributes defined in the \\_\\_init\\_\\_ method without passing them as parameters.\n"
   ]
  },
  {
   "cell_type": "code",
   "execution_count": 3,
   "metadata": {},
   "outputs": [
    {
     "name": "stdout",
     "output_type": "stream",
     "text": [
      "9:30 pm\n"
     ]
    }
   ],
   "source": [
    "class ClockTime:\n",
    "    \n",
    "    def __init__(self, h, m, ampm):\n",
    "        self.hr = h\n",
    "        self.mn = m\n",
    "        self.ap = ampm\n",
    "    \n",
    "    def __str__(self):\n",
    "        display = str(self.hr) + \":\" + str(self.mn) + \" \" + self.ap\n",
    "        return display\n",
    "    \n",
    "# test the class\n",
    "time_in = ClockTime(9,30,\"pm\")  \n",
    "print(time_in)"
   ]
  },
  {
   "cell_type": "markdown",
   "metadata": {},
   "source": [
    "## Example 4: Attributes versus local variables\n",
    "\n",
    "Look at the **\\_\\_str\\_\\_** method.  In it, 'display' is a local variable, and not an attribute.  After the method is finished, the ClockTime object does not remember the 'display' value, or that there even was such a variable called 'display'.  If we used 'self.display', then it would be an attribute, and the ClockTime object would remember it after the method was finished.  \n",
    "\n",
    "### When writing a method, use attributes only if you are sure you want the object to remember that value after the method is finished."
   ]
  },
  {
   "cell_type": "markdown",
   "metadata": {},
   "source": [
    "## Challenge 1: Conventional time on the outside, military time on the inside.\n",
    "\n",
    "We will want to do time arithmetic with our ClockTime objects: add some hours or minutes, tell the duration from one time to another.  It's more straightforward how to do that with military time than with conventional clock time.\n",
    "\n",
    "In military time, the hours are 0 through 23:\n",
    "* 0 instead of 12 am\n",
    "* 1 through 11 is the same as 1am through 11am\n",
    "* 12 is same as 12 pm\n",
    "* 13 through 23 is intead of 1pm through 11pm\n",
    "\n",
    "In military time, there is no am or pm.\n",
    "\n",
    "Let's modify the ClockTime class so that it's user can use conventional clock time, but internally the object represents it in military time.\n",
    "\n",
    "### Modify the \\_\\_init\\_\\_ method so that the ClockTime has only two attributes: self.hour is hour in military time, and self.minute is the usual minute.  Then modify the \\_\\_str\\_\\_ method so that it the string representation is in the conventional  clock time.  \n",
    "\n",
    "The \\_\\_init\\_\\_ method should still expect the input to be in conventional time.  \n",
    "  "
   ]
  },
  {
   "cell_type": "code",
   "execution_count": 4,
   "metadata": {},
   "outputs": [
    {
     "name": "stdout",
     "output_type": "stream",
     "text": [
      "\n",
      "\n"
     ]
    }
   ],
   "source": [
    "class ClockTime:\n",
    "    \n",
    "    def __init__(self, h, m, ampm):\n",
    "        # write the code so that there are only two attributes: \n",
    "        #     self.hour, which is in military ClockTime\n",
    "        #     self.minute\n",
    "        pass\n",
    "    \n",
    "    def __str__(self):\n",
    "        # write the method to return a string that has conventional clock ClockTime\n",
    "        return \"\"\n",
    "\n",
    "    \n",
    "# test the Class\n",
    "t1 = ClockTime(2,30,\"am\") \n",
    "print(t1)\n",
    "t2 = ClockTime(12,30,\"am\")\n",
    "print(t2)\n",
    "t3 = ClockTime(12,30,\"pm\")\n",
    "print(t3)\n",
    "t4 = ClockTime(11,30,\"pm\")\n",
    "print(t4)"
   ]
  },
  {
   "cell_type": "markdown",
   "metadata": {},
   "source": [
    "## Challenge 2: Add some minutes\n",
    "\n",
    "#### (Keep the TimeCard object in military time, with only two attributes self.hour and self.minute.)\n",
    "\n",
    "Let's make our objects a bit useful. Make it be able to add some minutes to itself.  Let's assume that the user can ask to add any number of nonnegative integer minutes.\n",
    "\n",
    "Create the add_minutes method that changes the attributes of the object to match the new time.  This method should not return anything, it should only modify its own attributes! \n",
    "\n",
    "#### Note that a call for the method is of the form \"object_name\".\"method_name\"(parameters, but without the self).\n",
    "\n",
    "\n",
    "### Create the add_minutes method to change the object's attributes accordingly.\n",
    "\n",
    "#### Hint: The integer remainder (%) and integer division (//) may help here.\n",
    "\n",
    "Examples: \n",
    "* 12 % 5 is 2\n",
    "* 22 // 5 is 4"
   ]
  },
  {
   "cell_type": "code",
   "execution_count": null,
   "metadata": {
    "collapsed": true
   },
   "outputs": [],
   "source": [
    "class ClockTime:\n",
    "    \n",
    "    # copy __init__ and __str__ methods from Challenge 1\n",
    "    \n",
    "    def add_minutes(self, minutes):\n",
    "        # Write the code for this method\n",
    "        # This method shouldn't return anything, only change attributes!\n",
    "        \n",
    "\n",
    "    \n",
    "# test the new method\n",
    "time = ClockTime(1,0, \"pm\")\n",
    "print(time)\n",
    "time.add_minutes(30)  # a call for the \"time\" object to do its \"add_minutes\" method\n",
    "print(\"Add 30 minutes:\", time)\n",
    "time.add_minutes(40)\n",
    "print(\"Add another 40 minutes:\", time)\n",
    "time.add_minutes(60*5)\n",
    "print(\"Add five hours:\", time)\n"
   ]
  },
  {
   "cell_type": "markdown",
   "metadata": {},
   "source": [
    "## Challenge 3: Add or subtract some minutes\n",
    "\n",
    "Let's make it possible to subtract the minutes as well.\n",
    "\n",
    "### Adjust the add_minutes method so that passing negative minutes results in subtracting that many minutes from the object's attributes. \n",
    "\n"
   ]
  },
  {
   "cell_type": "code",
   "execution_count": null,
   "metadata": {
    "collapsed": true
   },
   "outputs": [],
   "source": [
    "class ClockTime:\n",
    "    \n",
    "    # copy the methods from Challenge 2\n",
    "        \n",
    "\n",
    "    \n",
    "# test the new method\n",
    "time = ClockTime(1,0, \"pm\")\n",
    "print(time)\n",
    "time.add_minutes(30)\n",
    "print(\"Add 30 minutes:\", time)\n",
    "time.add_minutes(40)\n",
    "print(\"Add another 40 minutes:\", time)\n",
    "time.add_minutes(60*5)\n",
    "print(\"Add five hours:\", time)\n",
    "time.add_minutes(-30)\n",
    "print(\"Subtract 30 minutes:\", time)\n",
    "time.add_minutes(60 * (-5))\n",
    "print(\"Subtract five hours:\", time)\n"
   ]
  },
  {
   "cell_type": "markdown",
   "metadata": {},
   "source": [
    "## Challenge 4: Add or subtract some hours\n",
    "\n",
    "Inside a class method, you can call any of the other class methods.  This should simplify your tast of writing the add_hours method.\n",
    "\n",
    "Example: Say you are inside the add_hours method and you want to add 10 minutes to the object's attributes.  You can call the add_minutes method with the command:\n",
    "\n",
    "        self.add_minutes(10)\n",
    "        \n",
    "\n",
    "\n",
    "### Create the add_hours method to change the object's attributes accordingly.  Do use the add_minutes method to do your computations for you.\n"
   ]
  },
  {
   "cell_type": "code",
   "execution_count": null,
   "metadata": {
    "collapsed": true
   },
   "outputs": [],
   "source": [
    "class ClockTime:\n",
    "    \n",
    "    # copy the methods from Challenge 3\n",
    "        \n",
    "    def add_hours(self, hours):\n",
    "        # Write the code for this method\n",
    "        # This method shouldn't return anything, only change attributes!\n",
    "    \n",
    "# test the new method\n",
    "time = ClockTime(1,0, \"pm\")\n",
    "print(time)\n",
    "time.add_hours(5)\n",
    "print(\"Add 5 hours:\", time)\n",
    "time.add_hours(-10)\n",
    "print(\"Subtract 10 hours:\", time)\n",
    "time.add_hours(-12)\n",
    "print(\"Subtract 12 hours:\", time)\n"
   ]
  },
  {
   "cell_type": "markdown",
   "metadata": {},
   "source": [
    "## Challenge 5: Duration to another ClockTime\n",
    "\n",
    "Let's make a method that can get the time duration from the object's time to another ClockTime object's time.  \n",
    "\n",
    "\n",
    "### Write the duration method, which takes an \"other\" ClockTime object and returns the duration (in hours) from the \"self\" to the \"other\".\n",
    "\n",
    "If you are thinking Timecard: the \"self\" is time in, the \"other\" is time out.\n"
   ]
  },
  {
   "cell_type": "code",
   "execution_count": null,
   "metadata": {
    "collapsed": true
   },
   "outputs": [],
   "source": [
    "class ClockTime:\n",
    "    \n",
    "    # copy the methods from Challenge 4\n",
    "        \n",
    "    def duration(self, other):\n",
    "        # This method should return the duration of time (in hours, with fractional part not rounded down).\n",
    "        # The \"other\" is also a ClockTime class, so it has same kinds of methods and attributes as the \"self\".\n",
    "        # Write the code for this method.\n",
    "    \n",
    "# test the new method\n",
    "time_in = ClockTime(9,45, \"am\")\n",
    "time_out = ClockTime(12,15, \"pm\")\n",
    "duration = time_in.duration(time_out)\n",
    "print(\"From\", time_in, \"to\", time_out, \"is\", duration, \"hours\")\n"
   ]
  }
 ],
 "metadata": {
  "kernelspec": {
   "display_name": "Python 3",
   "language": "python",
   "name": "python3"
  },
  "language_info": {
   "codemirror_mode": {
    "name": "ipython",
    "version": 3
   },
   "file_extension": ".py",
   "mimetype": "text/x-python",
   "name": "python",
   "nbconvert_exporter": "python",
   "pygments_lexer": "ipython3",
   "version": "3.6.3"
  }
 },
 "nbformat": 4,
 "nbformat_minor": 2
}
