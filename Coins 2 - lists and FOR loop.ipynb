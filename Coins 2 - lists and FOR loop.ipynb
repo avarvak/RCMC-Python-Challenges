{
 "cells": [
  {
   "cell_type": "markdown",
   "metadata": {},
   "source": [
    "# Coins 2: Lists and the FOR loop\n",
    "\n",
    "### Goal: learn basic uses of lists, and how to use a FOR loop\n",
    "\n",
    "### Pre-requisite: Unit Converters, Coins I\n"
   ]
  },
  {
   "cell_type": "markdown",
   "metadata": {},
   "source": [
    "## <font color=\"blue\"> Example 1: a list is a collection of items </font>\n",
    "\n",
    "In the code below, 'coins' is a list of strings representing pennies, nickels, quarters or dimes.  The square brackets is what defines the list as a list.  The items are separated by commas.\n",
    "\n",
    "We can get the length of the list by using the function len().\n",
    "\n",
    "The first item on the left has index 0, the second item on the left has index 1, etc.  We can access individual items by specifying their index."
   ]
  },
  {
   "cell_type": "code",
   "execution_count": 8,
   "metadata": {},
   "outputs": [
    {
     "name": "stdout",
     "output_type": "stream",
     "text": [
      "Number of coins: 19\n",
      "First coin: p\n",
      "Second coin: d\n"
     ]
    }
   ],
   "source": [
    "# define coins as a list of given items\n",
    "coins = ['p', 'd', 'p', 'd', 'p', 'q', 'p', 'n', 'd', 'p', 'p', 'p', 'n', 'n', 'd', 'd', 'p', 'q', 'n']\n",
    "num_coins = len(coins)\n",
    "print(\"Number of coins:\", num_coins)\n",
    "print(\"First coin:\", coins[0])\n",
    "print(\"Second coin:\", coins[1])"
   ]
  },
  {
   "cell_type": "markdown",
   "metadata": {},
   "source": [
    "## Challenge 1: Print the last coin\n",
    "\n",
    "The code below randomly generates a list of coins.  The list can be as little as five coins, and as much as fifteen.\n",
    "\n",
    "Figure out how to print the last coin in the \"coins\" list.  What would its index be?  How does it relate to the number of items in the list?"
   ]
  },
  {
   "cell_type": "code",
   "execution_count": null,
   "metadata": {
    "collapsed": true
   },
   "outputs": [],
   "source": [
    "from random import choice, randint\n",
    "coins = []\n",
    "for i in range(randint(5, 15)):\n",
    "    coins.append(choice(['p','n','d','q']))\n",
    "print(coins)\n",
    "\n",
    "# your code goes here\n"
   ]
  },
  {
   "cell_type": "markdown",
   "metadata": {},
   "source": [
    "## Challenge 2: Print out the coins\n",
    "\n",
    "Figure out how to print the coins one at a time, starting with the leftmost and ending with the rightmost.  Where should the index start?  Where should it end?\n",
    "\n",
    "Hint: use a WHILE loop, and remember to update the index."
   ]
  },
  {
   "cell_type": "code",
   "execution_count": 10,
   "metadata": {},
   "outputs": [
    {
     "name": "stdout",
     "output_type": "stream",
     "text": [
      "['d', 'p', 'p', 'p', 'q', 'd', 'd', 'p', 'q', 'n', 'q', 'p', 'p']\n"
     ]
    }
   ],
   "source": [
    "from random import choice, randint\n",
    "coins = []\n",
    "for i in range(randint(5, 15)):\n",
    "    coins.append(choice(['p','n','d','q']))\n",
    "print(coins)\n",
    "\n",
    "# your code goes here\n"
   ]
  },
  {
   "cell_type": "markdown",
   "metadata": {},
   "source": [
    "## Challenge 3: Count the money\n",
    "\n",
    "Figure out how to count the total amount of dollar value of the coins."
   ]
  },
  {
   "cell_type": "code",
   "execution_count": null,
   "metadata": {
    "collapsed": true
   },
   "outputs": [],
   "source": [
    "from random import choice, randint\n",
    "coins = []\n",
    "for i in range(randint(5, 15)):\n",
    "    coins.append(choice(['p','n','d','q']))\n",
    "print(coins)\n",
    "\n",
    "# your code goes here\n"
   ]
  },
  {
   "cell_type": "markdown",
   "metadata": {},
   "source": [
    "## <font color=\"blue\"> Example 2: FOR loop </font>\n",
    "\n",
    "If you want to go through the list one item at a time, you could the start at index 0, then keep increasing the index by 1 until you checked out all the items.\n",
    "\n",
    "You can also use a special kind of loop--the FOR loop--that goes through each element in the list directly.  \n",
    "\n",
    "The code below has three FOR loops.  There are exactly the same; the only difference is the name of the FOR loop variable that I happened to give to indicate an element in the 'rainbow' list."
   ]
  },
  {
   "cell_type": "code",
   "execution_count": null,
   "metadata": {
    "collapsed": true
   },
   "outputs": [],
   "source": [
    "rainbow = ['red', 'orange', 'yellow', 'green', 'blue', 'violet']\n",
    "\n",
    "for color in rainbow:\n",
    "    print(color)\n",
    "    \n",
    "for item in rainbow:\n",
    "    print(item)\n",
    "    \n",
    "for x in rainbow:\n",
    "    print(x)"
   ]
  },
  {
   "cell_type": "markdown",
   "metadata": {},
   "source": [
    "## Challenge 4: Count the money using a FOR loop\n",
    "\n",
    "Modify your code from Challenge 3 to use the FOR loop rather than the WHILE loop."
   ]
  },
  {
   "cell_type": "code",
   "execution_count": null,
   "metadata": {
    "collapsed": true
   },
   "outputs": [],
   "source": [
    "from random import choice, randint\n",
    "coins = []\n",
    "for i in range(randint(5, 15)):\n",
    "    coins.append(choice(['p','n','d','q']))\n",
    "print(coins)\n",
    "\n",
    "# your code goes here\n"
   ]
  },
  {
   "cell_type": "markdown",
   "metadata": {},
   "source": [
    "## <font color=\"blue\"> Example 3: changing an item in the list </font>\n",
    "\n",
    "The code below changes an item in the list by specifying the index where the change needs to happen."
   ]
  },
  {
   "cell_type": "code",
   "execution_count": 11,
   "metadata": {},
   "outputs": [
    {
     "name": "stdout",
     "output_type": "stream",
     "text": [
      "Before change: ['red', 'orange', 'yellow', 'green', 'blue', 'violet']\n",
      "After change: ['red', 'vermillion', 'yellow', 'green', 'blue', 'violet']\n"
     ]
    }
   ],
   "source": [
    "rainbow = ['red', 'orange', 'yellow', 'green', 'blue', 'violet']\n",
    "print(\"Before change:\", rainbow)\n",
    "rainbow[1] = 'vermillion'\n",
    "print(\"After change:\", rainbow)"
   ]
  },
  {
   "cell_type": "markdown",
   "metadata": {},
   "source": [
    "## Challenge 5: Change representation\n",
    "\n",
    "The code below randomly generates a list of letters 'p', 'n', 'd', 'q', and '?'.\n",
    "\n",
    "Write code that goes through the list, and changes all '?' to 'garbage'."
   ]
  },
  {
   "cell_type": "code",
   "execution_count": 13,
   "metadata": {},
   "outputs": [
    {
     "name": "stdout",
     "output_type": "stream",
     "text": [
      "['q', 'n', 'q', 'd', 'n', 'q', 'd', 'q', 'd', 'n', 'n', 'p', '?', 'p']\n"
     ]
    }
   ],
   "source": [
    "from random import choice, randint\n",
    "coins = []\n",
    "for i in range(randint(5, 15)):\n",
    "    coins.append(choice(['p','n','d','q','?']))\n",
    "print(coins)\n",
    "\n",
    "# your code goes here\n"
   ]
  },
  {
   "cell_type": "markdown",
   "metadata": {},
   "source": [
    "## <font color=\"blue\"> Example 4: removing an item from the list </font>\n",
    "\n",
    "The code below removes an item in the list by specifying the index of the item."
   ]
  },
  {
   "cell_type": "code",
   "execution_count": 17,
   "metadata": {},
   "outputs": [
    {
     "name": "stdout",
     "output_type": "stream",
     "text": [
      "Before removal: ['red', 'orange', 'yellow', 'banana', 'green', 'blue', 'violet']\n",
      "After removal: ['red', 'orange', 'yellow', 'green', 'blue', 'violet']\n"
     ]
    }
   ],
   "source": [
    "rainbow = ['red', 'orange', 'yellow', 'banana', 'green', 'blue', 'violet']\n",
    "print(\"Before removal:\", rainbow)\n",
    "rainbow.pop(3)\n",
    "print(\"After removal:\", rainbow)"
   ]
  },
  {
   "cell_type": "markdown",
   "metadata": {},
   "source": [
    "## Challenge 6: Garbage removal\n",
    "\n",
    "The code below randomly generates a list of letters 'p', 'n', 'd', 'q', and '?'.  The '?' represents garbage.  \n",
    "\n",
    "After the coins list is generated, remove all '?' items from it."
   ]
  },
  {
   "cell_type": "code",
   "execution_count": null,
   "metadata": {
    "collapsed": true
   },
   "outputs": [],
   "source": [
    "from random import choice, randint\n",
    "coins = []\n",
    "for i in range(randint(5, 15)):\n",
    "    coins.append(choice(['p','n','d','q','?']))\n",
    "print(coins)\n",
    "\n",
    "# your code goes here\n"
   ]
  },
  {
   "cell_type": "markdown",
   "metadata": {},
   "source": [
    "## <font color=\"blue\"> Example 5: add an item to the list </font>\n",
    "\n",
    "The code below adds an item to the end of the list."
   ]
  },
  {
   "cell_type": "code",
   "execution_count": 18,
   "metadata": {},
   "outputs": [
    {
     "name": "stdout",
     "output_type": "stream",
     "text": [
      "Before: ['red', 'orange', 'yellow', 'banana', 'green', 'blue']\n",
      "After: ['red', 'orange', 'yellow', 'banana', 'green', 'blue', 'violet']\n"
     ]
    }
   ],
   "source": [
    "rainbow = ['red', 'orange', 'yellow', 'banana', 'green', 'blue']\n",
    "print(\"Before:\", rainbow)\n",
    "rainbow.append('violet')\n",
    "print(\"After:\", rainbow)"
   ]
  },
  {
   "cell_type": "markdown",
   "metadata": {},
   "source": [
    "## Challenge 6: Valid coins\n",
    "\n",
    "The code below randomly generates a list of letters 'p', 'n', 'd', and 'q' representing valid coins, and '?' representing garbage.  \n",
    "\n",
    "After the coins list is generated, create a valid_coins list that has exactly the same valid coins and no garbage.  Start with a blank list, and add only valid coins to it."
   ]
  },
  {
   "cell_type": "code",
   "execution_count": 19,
   "metadata": {},
   "outputs": [
    {
     "name": "stdout",
     "output_type": "stream",
     "text": [
      "['n', '?', 'p', 'p', 'q', '?', 'd', 'n', '?', 'n', 'q', 'p']\n"
     ]
    }
   ],
   "source": [
    "from random import choice, randint\n",
    "coins = []\n",
    "for i in range(randint(5, 15)):\n",
    "    coins.append(choice(['p','n','d','q','?']))\n",
    "print(coins)\n",
    "\n",
    "# your code goes here\n"
   ]
  }
 ],
 "metadata": {
  "kernelspec": {
   "display_name": "Python 3",
   "language": "python",
   "name": "python3"
  },
  "language_info": {
   "codemirror_mode": {
    "name": "ipython",
    "version": 3
   },
   "file_extension": ".py",
   "mimetype": "text/x-python",
   "name": "python",
   "nbconvert_exporter": "python",
   "pygments_lexer": "ipython3",
   "version": "3.6.3"
  }
 },
 "nbformat": 4,
 "nbformat_minor": 2
}
