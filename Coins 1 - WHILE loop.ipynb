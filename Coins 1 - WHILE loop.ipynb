{
 "cells": [
  {
   "cell_type": "markdown",
   "metadata": {},
   "source": [
    "# Coins 1- WHILE loop\n",
    "\n",
    "### Goal: learn how to use the WHILE loop\n",
    "\n",
    "### Pre-requisite: Unit Converters\n",
    "\n",
    "In Unit Converters, you have learned how to define and use variables, use conditional statements (if - elif - else), and how to get and print text input.  In the series of challenges below, you will learn how to do loops: go back and repeat a block of code until some specific condition is met.\n"
   ]
  },
  {
   "cell_type": "markdown",
   "metadata": {},
   "source": [
    "## <font color=\"blue\"> Example 1: Introducing the WHILE loop </font>\n",
    "\n",
    "Compare the two codes below.  Both do a countdown from 3, and then say \"Blastoff!!!\".  \n",
    "\n",
    "Which of the two codes can you easily modify to count down from 100?\n"
   ]
  },
  {
   "cell_type": "code",
   "execution_count": 5,
   "metadata": {},
   "outputs": [
    {
     "name": "stdout",
     "output_type": "stream",
     "text": [
      "Count: 3\n",
      "Count: 2\n",
      "Count: 1\n",
      "Blastoff!!!\n"
     ]
    }
   ],
   "source": [
    "# Code 1\n",
    "print(\"Count: 3\")\n",
    "print(\"Count: 2\")\n",
    "print(\"Count: 1\")\n",
    "print(\"Blastoff!!!\")"
   ]
  },
  {
   "cell_type": "code",
   "execution_count": 2,
   "metadata": {},
   "outputs": [
    {
     "name": "stdout",
     "output_type": "stream",
     "text": [
      "Count:  3\n",
      "Count:  2\n",
      "Count:  1\n",
      "Blastoff!!!\n"
     ]
    }
   ],
   "source": [
    "# Code 2\n",
    "count = 3\n",
    "while count > 0:\n",
    "    print(\"Count: \", count)\n",
    "    count = count - 1\n",
    "    \n",
    "print(\"Blastoff!!!\")"
   ]
  },
  {
   "cell_type": "markdown",
   "metadata": {},
   "source": [
    "## Challenge 1: Get enough pennies\n",
    "\n",
    "Let's model a smart piggy bank that has a pre-set goal for amount of money in it and can tell when that goal is reached.  \n",
    "\n",
    "For this first challenge, let's assume that the user can put in a penny into the piggy back by typing the letter 'p' as input, and the goal is to collect 10 pennies.  Let's also assume that the piggy bank only accepts pennies.  Here's how we can give the user a chance to put in a coin, and only accept a penny:\n",
    "\n",
    "    coin = input(\"Put a coin in the piggy bank: \")\n",
    "    if coin == \"p\":\n",
    "        input(\"Thanks for the penny!\")\n",
    "    else:\n",
    "        input(\"Coin doesn't fit.\")\n",
    "\n",
    "Write code that will keep asking the user to put a coin in the piggy bank, stop once there are ten pennies in the bank, and announce that the goal is reached."
   ]
  },
  {
   "cell_type": "code",
   "execution_count": null,
   "metadata": {
    "collapsed": true
   },
   "outputs": [],
   "source": [
    "# your code goes here"
   ]
  },
  {
   "cell_type": "markdown",
   "metadata": {},
   "source": [
    "## Challenge 2: Allow other coins\n",
    "\n",
    "Modify your code from Challenge 1 to recognize other coins: 'n' for nickel, 'd' for dime, and 'q' for quarter.  Change the piggy bank's goal to 5 dollars."
   ]
  },
  {
   "cell_type": "code",
   "execution_count": null,
   "metadata": {
    "collapsed": true
   },
   "outputs": [],
   "source": [
    "# copy the code from Challenge 1 and modify it"
   ]
  },
  {
   "cell_type": "markdown",
   "metadata": {},
   "source": [
    "## Challenge 3: Let user set the goal\n",
    "\n",
    "Modify your code from Challenge 2 to allow the user to set the goal by getting input for dollar amount."
   ]
  },
  {
   "cell_type": "code",
   "execution_count": null,
   "metadata": {
    "collapsed": true
   },
   "outputs": [],
   "source": [
    "# copy the code from Challenge 2 and modify it"
   ]
  },
  {
   "cell_type": "markdown",
   "metadata": {},
   "source": [
    "## <font color='blue'> Example 2: A Break from the Loop </font>\n",
    "\n",
    "A WHILE loop always has a specified condition (e.g., in Example 1 the condition is \"count > 0\").  The loop stops when the condition is False.\n",
    "\n",
    "Another way to stop the loop is to break out of it--literally by using the 'break' command inside the loop.  Below is an example."
   ]
  },
  {
   "cell_type": "code",
   "execution_count": 6,
   "metadata": {},
   "outputs": [
    {
     "name": "stdout",
     "output_type": "stream",
     "text": [
      "Count: 3\n",
      "Count: 2\n",
      "Count: 1\n",
      "Blastoff!!!\n"
     ]
    }
   ],
   "source": [
    "# Another way to do a countdown\n",
    "count = 3\n",
    "\n",
    "while True:\n",
    "    print(\"Count:\", count)\n",
    "    count = count - 1\n",
    "    if count == 0:\n",
    "        break\n",
    "\n",
    "print(\"Blastoff!!!\")"
   ]
  },
  {
   "cell_type": "markdown",
   "metadata": {},
   "source": [
    "## Challenge 4: Limited goal\n",
    "\n",
    "Suppose that our piggy bank has a limit on the dollar amount that can be collected--say, no more than 25 dollars.  Modify your code from Challenge 3 to only accept goals that are positive and 25 dollars or fewer.\n",
    "\n",
    "Hint: you'll need a WHILE loop where you keep asking the user to input a goal within the given range, until the user complies."
   ]
  },
  {
   "cell_type": "code",
   "execution_count": null,
   "metadata": {
    "collapsed": true
   },
   "outputs": [],
   "source": [
    "# copy the code from Challenge 3 and modify it"
   ]
  }
 ],
 "metadata": {
  "kernelspec": {
   "display_name": "Python 3",
   "language": "python",
   "name": "python3"
  },
  "language_info": {
   "codemirror_mode": {
    "name": "ipython",
    "version": 3
   },
   "file_extension": ".py",
   "mimetype": "text/x-python",
   "name": "python",
   "nbconvert_exporter": "python",
   "pygments_lexer": "ipython3",
   "version": "3.6.3"
  }
 },
 "nbformat": 4,
 "nbformat_minor": 2
}
