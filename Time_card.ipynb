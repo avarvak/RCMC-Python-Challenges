{
 "cells": [
  {
   "cell_type": "markdown",
   "metadata": {
    "id": "mMDK8L_KiWB4"
   },
   "source": [
    "# Python Team presents: Time-card app challenge\n",
    "\n",
    "### Make sure that your team has a person who knows basic Python syntax.  \n",
    "\n",
    "The ultimate goal is to create a fully usable time-card application, which gets the start time and the end time, and outputs the number of hours worked. "
   ]
  },
  {
   "cell_type": "markdown",
   "metadata": {
    "id": "VnHtoZjsiWCC"
   },
   "source": [
    "## Time-card app, Version 1: Morning-only prototype\n",
    "\n",
    "Let's assume that the user starts and ends in the morning (between 12:01am and 11:59am).\n",
    "Modify the code to output the time worked in hours.  Round to hundredth digit.\n",
    "\n",
    "Test your code with the following inputs:\n",
    "* 9:00 to 11:00 should result in 2 hours\n",
    "* 8:30 to 9:00 should result in 0.5 hours\n",
    "* 4:45 to 6:15 should result in 1.5 hours\n",
    "* 12:45 to 11:00 should result in 10.25 hours\n",
    "* 12:36 to 6:13 should result in 5.62 hours\n"
   ]
  },
  {
   "cell_type": "code",
   "execution_count": null,
   "metadata": {
    "collapsed": true,
    "id": "xPHNYwfsiWCD",
    "scrolled": true
   },
   "outputs": [],
   "source": [
    "print(\"Time-Card App, Morning Edition\")\n",
    "print(\"When did you START? Input separately hour and minute.\")\n",
    "hour_in = int(input(\"Hour    : \"))\n",
    "minute_in = int(input(\"Minute  : \"))\n",
    "print(\"When did you END? Input separately hour and minute.\")\n",
    "hour_out = int(input(\"Hour    : \"))\n",
    "minute_out = int(input(\"Minute  : \"))\n",
    "\n",
    "# your code goes below\n"
   ]
  },
  {
   "cell_type": "markdown",
   "metadata": {
    "id": "VnHtoZjsiWCC"
   },
   "source": [
    "## Time-card app, Version 2: Now with Afternoons\n",
    "\n",
    "Let's assume that the user can start and end any time between 12:01am and 11:59pm, but doesn't work midnight shifts.\n",
    "Modify the code to output the time worked in hours.  Round to hundredth digit.\n",
    "\n",
    "Test your code with the following inputs:\n",
    "* 1:45am to 3:30am should result in 1.75 hours\n",
    "* 1:45pm to 3:30pm should also result in 1.75 hours\n",
    "* 9:00am to 1:00pm should result in 4 hours\n",
    "* 11:45am to 12:15pm should result in 0.5 hours\n",
    "* 12:45am to 11:30pm should result in 22.75 hours\n",
    "* 12:36am to 12:13pm should result in 11.62 hours\n"
   ]
  },
  {
   "cell_type": "code",
   "execution_count": 6,
   "metadata": {
    "id": "xPHNYwfsiWCD",
    "scrolled": true
   },
   "outputs": [
    {
     "name": "stdout",
     "output_type": "stream",
     "text": [
      "Time-Card App, All-Day Edition\n",
      "When did you START? Input separately hour and minute.\n",
      "Hour    : 12\n",
      "Minute  : 11\n",
      "am or pm: am\n",
      "When did you END? Input separately hour and minute.\n",
      "Hour    : 2\n",
      "Minute  : 22\n",
      "am or pm: am\n"
     ]
    }
   ],
   "source": [
    "print(\"Time-Card App, All-Day Edition\")\n",
    "print(\"When did you START? Input separately hour and minute.\")\n",
    "hour_in = int(input(\"Hour    : \"))\n",
    "minute_in = int(input(\"Minute  : \"))\n",
    "ampm_in = input(\"am or pm: \")\n",
    "print(\"When did you END? Input separately hour and minute.\")\n",
    "hour_out = int(input(\"Hour    : \"))\n",
    "minute_out = int(input(\"Minute  : \"))\n",
    "ampm_out = input(\"am or pm: \")\n",
    "\n",
    "# your code goes below\n"
   ]
  },
  {
   "cell_type": "markdown",
   "metadata": {
    "id": "VnHtoZjsiWCC"
   },
   "source": [
    "## Time-card app, Version 3: All-Day or All-Night\n",
    "\n",
    "Let's assume that the user can start and end any time, and do night shifts.  The shift must be less than 24 hours, that's all.\n",
    "Adapt your code from Version 2.\n",
    "\n",
    "Test your code with the following inputs:\n",
    "* 1:45am to 3:30am should result in 1.75 hours\n",
    "* 1:45pm to 3:30pm should also result in 1.75 hours\n",
    "* 11:45am to 3:15pm should result in 3.5 hours\n",
    "* 9:15pm to 3:45am should result in 6.5 hours\n",
    "* 12:30am to 1:00pm should result in 12.5 hours\n",
    "* 12:30pm to 1:00am should also result in 12.5 hours\n",
    "* 1:01am to 12:59am should result in 23.97 hours\n"
   ]
  },
  {
   "cell_type": "code",
   "execution_count": 6,
   "metadata": {
    "id": "xPHNYwfsiWCD",
    "scrolled": true
   },
   "outputs": [
    {
     "name": "stdout",
     "output_type": "stream",
     "text": [
      "Time-Card App, All-Day Edition\n",
      "When did you START? Input separately hour and minute.\n",
      "Hour    : 12\n",
      "Minute  : 11\n",
      "am or pm: am\n",
      "When did you END? Input separately hour and minute.\n",
      "Hour    : 2\n",
      "Minute  : 22\n",
      "am or pm: am\n"
     ]
    }
   ],
   "source": [
    "print(\"Time-Card App, All-Day Edition\")\n",
    "print(\"When did you START? Input separately hour and minute.\")\n",
    "hour_in = int(input(\"Hour    : \"))\n",
    "minute_in = int(input(\"Minute  : \"))\n",
    "ampm_in = input(\"am or pm: \")\n",
    "print(\"When did you END? Input separately hour and minute.\")\n",
    "hour_out = int(input(\"Hour    : \"))\n",
    "minute_out = int(input(\"Minute  : \"))\n",
    "ampm_out = input(\"am or pm: \")\n",
    "\n",
    "# your code goes below\n"
   ]
  }
 ],
 "metadata": {
  "colab": {
   "provenance": []
  },
  "kernelspec": {
   "display_name": "Python 3",
   "language": "python",
   "name": "python3"
  },
  "language_info": {
   "codemirror_mode": {
    "name": "ipython",
    "version": 3
   },
   "file_extension": ".py",
   "mimetype": "text/x-python",
   "name": "python",
   "nbconvert_exporter": "python",
   "pygments_lexer": "ipython3",
   "version": "3.6.3"
  }
 },
 "nbformat": 4,
 "nbformat_minor": 1
}
