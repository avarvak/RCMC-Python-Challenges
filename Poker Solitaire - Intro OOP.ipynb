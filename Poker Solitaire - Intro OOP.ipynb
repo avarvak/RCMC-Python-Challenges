{
 "cells": [
  {
   "cell_type": "markdown",
   "metadata": {},
   "source": [
    "# Poker Solitaire: Intro to Object-Oriented Programming\n",
    "\n",
    "## Objective: create a text-based Poker Solitaire game.\n",
    "\n",
    "#### Pre-requisite: ClockTime - Intro to Classes\n",
    "\n",
    "Poker Solitaire is a training game for Texas Hold'em version of Poker.  The objective is to get good at predicting when to bet and when to fold -- as the song says, \"Ya gotta know when to hold them, and know when to fold them\".\n",
    "\n",
    "Objects \"know\" something, and can \"do\" something.  So let's think about a Poker game from an Object-Oriented perspective.  The most basic objects of the game are the Cards, which \"know\" their rank and suit.  The Cards come from a Deck.  The Deck can shuffle itself and deal out Cards.  Each player has a Hand of Cards.  A Hand should be able to tell its best value--does it have a \"flush\"? a \"full house\"? a \"pair\"?--and whether it beats another Hand.\n",
    "\n",
    "So first we'll create those classes--Card, Deck, and Hand--and then we'll create a PokerSolitaire class that knows how play the game."
   ]
  },
  {
   "cell_type": "markdown",
   "metadata": {},
   "source": [
    "## Example 1: Instance Attributes versus Class Attributes\n",
    "\n",
    "Examine the Card class written below.\n",
    "\n",
    "* The Card class itself has two class attributes: Ranks and Suits.  These can be accessed outside of the class as Card.Ranks and Card.Suits (see print statements at the end of the code).  \n",
    "\n",
    "* Inside a class method, self.Ranks and self.Suits are copies of Card.Ranks and Card.Suits.\n",
    "\n",
    "* Once a Card is created, we don't want to change the rank and suit.  Python doesn't have class attributes that can't be accessed, but it's traditional to indicate with an underline that an attribute shouldn't be accessed directly."
   ]
  },
  {
   "cell_type": "code",
   "execution_count": 1,
   "metadata": {
    "collapsed": true
   },
   "outputs": [],
   "source": [
    "class Card:\n",
    "    # These are class attributes\n",
    "    Ranks = (2,3,4,5,6,7,8,9,10,11,12,13,14)\n",
    "    Suits = ('S','H','D','C')\n",
    "    \n",
    "    def __init__(self, r, s):\n",
    "        if r in self.Ranks:   # The instance has a copy of class attribute\n",
    "            self._rank = r    # The underline is a hint that this attribute shouldn't be accessed directly\n",
    "        else:\n",
    "            raise ValueError(\"Bad Rank\")\n",
    "        if s in Card.Suits:  # Can also access the class attribute through referring to the class\n",
    "            self._suit = s\n",
    "        else:\n",
    "            raise ValueError(\"Bad Suit\")\n",
    "            \n",
    "    def rank(self):\n",
    "        return self._rank\n",
    "    \n",
    "    def suit(self):\n",
    "        return self._suit\n",
    "    \n",
    "    def __str__(self):\n",
    "        unicode = {'C' : \"\\u2663\", 'H' : \"\\u2665\", 'D' : \"\\u2666\", 'S' : \"\\u2660\"}\n",
    "        bigranks = [\"T\", \"J\", \"Q\", \"K\", \"A\"]\n",
    "        s = ''\n",
    "        if self._rank < 10:\n",
    "            s += str(self._rank)\n",
    "        else:\n",
    "            s += str(bigranks[self._rank % 10])\n",
    "        s += unicode[self._suit]\n",
    "        return s"
   ]
  },
  {
   "cell_type": "code",
   "execution_count": 2,
   "metadata": {},
   "outputs": [
    {
     "name": "stdout",
     "output_type": "stream",
     "text": [
      "J♠\n",
      "Rank: 11 Suit: S\n",
      "('S', 'H', 'D', 'C')\n",
      "(2, 3, 4, 5, 6, 7, 8, 9, 10, 11, 12, 13, 14)\n"
     ]
    }
   ],
   "source": [
    "# Testing the class\n",
    "c = Card(11,'S')\n",
    "print(c)\n",
    "print(\"Rank:\", c.rank(), \"Suit:\", c.suit())\n",
    "\n",
    "# Class attributes can be accessed outside of the class\n",
    "print(Card.Suits)\n",
    "print(Card.Ranks)"
   ]
  },
  {
   "cell_type": "markdown",
   "metadata": {},
   "source": [
    "## Challenge 1: Compare Cards\n",
    "\n",
    "Let's the Card be able to compare itself to another Card.  One Card is higher than another if its rank is bigger.  Two cards of the same rank can be compared by suit: S > H > D > C.\n",
    "\n",
    "### Write the 'compare' method.\n",
    "\n"
   ]
  },
  {
   "cell_type": "code",
   "execution_count": null,
   "metadata": {
    "collapsed": true
   },
   "outputs": [],
   "source": [
    "class Card:\n",
    "    \n",
    "    # copy methods and class attributes from Example 1\n",
    "    \n",
    "    def compare(self, other):\n",
    "        # return 1 if self is higher than other, -1 if self is lower than other, and 0 if the two are the same card."
   ]
  },
  {
   "cell_type": "code",
   "execution_count": null,
   "metadata": {
    "collapsed": true
   },
   "outputs": [],
   "source": [
    "# Test the compare method here\n"
   ]
  },
  {
   "cell_type": "markdown",
   "metadata": {},
   "source": [
    "## Challenge 2: Deck class\n",
    "\n",
    "First, run the code above that defines the Card class.  Jupyter Notebook now remembers the Card class, so that you don't need to copy that code to use the Card class.\n",
    "\n",
    "Below is a Deck class.  A Deck can create itself, shuffing its newly minted 52 cards.  And it can deal out a card.\n",
    "\n",
    "### Write the deal_cards method which would return a list of top n cards."
   ]
  },
  {
   "cell_type": "code",
   "execution_count": 2,
   "metadata": {
    "collapsed": true
   },
   "outputs": [],
   "source": [
    "from random import shuffle\n",
    "\n",
    "class Deck:\n",
    "    \n",
    "    def __init__(self):\n",
    "        # Create a list of 52 cards: one for each Card.Rank and Card.Suit\n",
    "        self.cards = []\n",
    "        for r in Card.Ranks:\n",
    "            for s in Card.Suits:\n",
    "                self.cards.append(Card(r,s))\n",
    "        shuffle(self.cards)\n",
    "    \n",
    "    def deal_card(self):\n",
    "        if len(self.cards) > 0:\n",
    "            return self.cards.pop()\n",
    "        \n",
    "    def cards_left(self):\n",
    "        return len(self.cards)\n",
    "    \n",
    "    def deal_cards(self, n):\n",
    "        # write this method to return a list of top n cards, if there are at least n cards left in the deck\n",
    "        return []\n",
    "    \n",
    "    "
   ]
  },
  {
   "cell_type": "code",
   "execution_count": 3,
   "metadata": {},
   "outputs": [
    {
     "name": "stdout",
     "output_type": "stream",
     "text": [
      "Cards left in deck: 52\n",
      "Cards left in deck: 52\n",
      "Cards left in deck: 52\n",
      "Cards left in deck: 52\n",
      "Cards left in deck: 52\n",
      "Cards left in deck: 52\n"
     ]
    }
   ],
   "source": [
    "# Test the deal_cards method\n",
    "deck = Deck()\n",
    "for i in range(6):\n",
    "    my_hand = deck.deal_cards(10)\n",
    "    for c in my_hand:\n",
    "        print(c, end = \" \")\n",
    "    print(\"Cards left in deck:\", deck.cards_left())"
   ]
  },
  {
   "cell_type": "markdown",
   "metadata": {},
   "source": [
    "## Challenge 3: a prototype Hand Class\n",
    "\n",
    "Make sure to run the code defining Card class and Deck class.\n",
    "\n",
    "### Write the 'add', 'get_highest_card', and 'beats' methods for Hand class.\n",
    "\n",
    "This Hand doesn't yet know how to evaluate Poker hands, but it can get some cards, it can figure out which card is its highest, and it can see if it beats another Hand.\n"
   ]
  },
  {
   "cell_type": "code",
   "execution_count": null,
   "metadata": {
    "collapsed": true
   },
   "outputs": [],
   "source": [
    "class Hand:\n",
    "    \n",
    "    def __init__(self, cardlist):\n",
    "        self.cards = cardlist.copy()\n",
    "        \n",
    "    def __str__(self):\n",
    "        s = ''\n",
    "        for c in self.cards:\n",
    "            s += str(c) + ' '\n",
    "        return s\n",
    "        \n",
    "    def add(self, cardlist):\n",
    "        # add the list of cards to one's cards\n",
    "        pass\n",
    "    \n",
    "    def get_highest_card(self):\n",
    "        # returns the highest card it has.\n",
    "        # Two cards of the same rank are compared by suit: S > H > D > C\n",
    "        pass\n",
    "    \n",
    "    def beats(self, other):\n",
    "        # given 'other' Hand, returns True if self's highest card is higher than other's highest card\n",
    "        pass\n",
    "     "
   ]
  },
  {
   "cell_type": "code",
   "execution_count": null,
   "metadata": {
    "collapsed": true
   },
   "outputs": [],
   "source": [
    "# Test your Hand class here\n",
    "deck = Deck()\n",
    "my_hand = Hand([])\n",
    "my_hand.add(deck.deal_cards(5))\n",
    "your_hand = Hand(deck.deal_cards(5))\n",
    "print(\"My hand:\", my_hand, \"Your hand:\", your_hand)\n",
    "if my_hand.beats(your_hand):\n",
    "    print(\"I beat you with\", my_hand.get_highest_card())\n",
    "else:\n",
    "    print(\"You beat me with\", your_hand.get_highest_card())\n"
   ]
  },
  {
   "cell_type": "markdown",
   "metadata": {},
   "source": [
    "## Challenge 4: a prototype Poker game\n",
    "\n",
    "Make sure to run the code defining Card class, Deck class, and Hand class.\n",
    "\n",
    "### Write a prototype Pokergame class.\n",
    "\n",
    "This Poker class knows how to run a simple game of Texas Hold'em with only one round of \"betting\", and the Hand that has the highest Card wins.\n",
    "\n",
    "The game goes as follows:\n",
    "\n",
    "* Deal two cards to the player, and five cards in common.\n",
    "* The player chooses whether to hold or fold.\n",
    "* Deal two cards to the opponent.\n",
    "* Add the common cards to the player's hand and to the opponent's hand.  Compare the player's and opponent's hand.\n",
    "* Scoring: \n",
    "    * if player's hand beats opponent's hand:\n",
    "        * +100 if player held\n",
    "        * -100 if player folded\n",
    "    * if opponent's hand beats player's hand:\n",
    "        * +100 if player folded\n",
    "        * -100 if player held\n",
    "    * if player and opponent have equally strong hands:\n",
    "        * 0 poins\n"
   ]
  },
  {
   "cell_type": "code",
   "execution_count": 21,
   "metadata": {},
   "outputs": [
    {
     "name": "stdout",
     "output_type": "stream",
     "text": [
      "Average score: 0.0 out of 1 games\n",
      "Play again? (Y/N) n\n"
     ]
    }
   ],
   "source": [
    "class PokerSolitaire:\n",
    "    \n",
    "    def __init__(self):\n",
    "        self.numgames = 0\n",
    "        self.score = 0\n",
    "        \n",
    "    def play_one_game(self):\n",
    "        self.numgames += 1\n",
    "        # write this method and don't forget to update the score\n",
    "    \n",
    "    def play_again(self):\n",
    "        print(\"Average score: {} out of {} games\".format(round(self.score/self.numgames,1), self.numgames))\n",
    "        response = input(\"Play again? (Y/N) \")\n",
    "        if response.lower()[0] == 'y':\n",
    "            return True\n",
    "        else:\n",
    "            return False\n",
    "    \n",
    "    def play(self):\n",
    "        while True:\n",
    "            self.play_one_game()\n",
    "            if not self.play_again():\n",
    "                break\n",
    "        \n",
    "\n",
    "# Run the game\n",
    "game = PokerSolitaire()\n",
    "game.play()\n"
   ]
  },
  {
   "cell_type": "markdown",
   "metadata": {},
   "source": [
    "## Challenge 5: Improve Hand Class\n",
    "\n",
    "Let's make a better Hand class for Poker.  Here's a quick summary of Poker hands: https://www.poker.org/poker-hands-ranking-chart/\n",
    "\n",
    "### Implement the most commonly occuring types of Poker hands: pair, two-pair, and three-of-a-kind. Then update the \"beats\" method.\n",
    "\n"
   ]
  },
  {
   "cell_type": "code",
   "execution_count": null,
   "metadata": {
    "collapsed": true
   },
   "outputs": [],
   "source": [
    "class Hand:\n",
    "    \n",
    "    # copy methods from Challenge 3, except for the \"beats\" method\n",
    "    \n",
    "    def three_of_a_kind(self):\n",
    "        # If Hand has three-of-a-kind (three cards with same rank),\n",
    "        # returns the highest Card of the three,\n",
    "        # otherwise returns None\n",
    "        pass\n",
    "    \n",
    "    def two_pair(self):\n",
    "        # If Hand has two pairs, returns the highest Card of the two pairs,\n",
    "        # otherwise returns None\n",
    "        pass\n",
    "    \n",
    "    def one_pair(self):\n",
    "        # If Hand has a pair (two cards with same Rank), returns the highest Card of the pair,\n",
    "        # otherwise returns False\n",
    "        pass\n",
    "    \n",
    "    def beats(self, other):\n",
    "        # update this method from Challenge 3:\n",
    "        # 3-of-a-kind beats two pairs, two-pairs beats one pair, one pair beats hand without a pair.\n",
    "        # If both hands are 3-of-a-kind, the one with the highest card in those 3-of-a-kind beats the other.\n",
    "        # (similarly if both have 2-pair, or if both have one pair)\n",
    "        # If neither has a pair, the one with highest card beats the other.\n",
    "        pass\n",
    "    "
   ]
  },
  {
   "cell_type": "code",
   "execution_count": null,
   "metadata": {
    "collapsed": true
   },
   "outputs": [],
   "source": [
    "# Test your Hand class here"
   ]
  },
  {
   "cell_type": "markdown",
   "metadata": {},
   "source": [
    "## Challenge 6: Prototype Poker Solitaire again\n",
    "\n",
    "Re-run the code you wrote for Challenge 4.  Your code should still work, but now work better, because you are using a more powerful Hand class.  If it doesn't work, fix it so that it works with the new Hand class.\n",
    "\n",
    "Now let's make the \"betting\" happen more like in Texas Hold'em, which happens up to four times: once after the players get their two cards, once after they see the first three cards in common, and two more times after that with each additional common card.\n",
    "\n",
    "The game goes as follows:\n",
    "\n",
    "* Deal two cards to the player.  Ask the player to hold or fold.  (If player folds, deal the rest of common cards and proceed to comparing the hands.)\n",
    "* Deal 3 cards in common.  Ask the player to hold or fold.  (If player folds, ... )\n",
    "* Deal 1 more card incommon.  Ask the player to hold or fold. (If player folds, ... )\n",
    "* Deal 1 last card in common.  Ask the player to hold or fold.\n",
    "* Deal two cards to the opponent.\n",
    "* Add the common cards to the player's hand and to the opponent's hand.  Compare the player's and opponent's hand.\n",
    "* Scoring: \n",
    "    * if player's hand beats opponent's hand:\n",
    "        * +25 for each time the player held\n",
    "        * -100 if player folded\n",
    "    * if opponent's hand beats player's hand:\n",
    "        * +100 if player folded\n",
    "        * -25 for each time the player held\n",
    "    * if player and opponent have equally strong hands:\n",
    "        * 0 poins\n",
    "\n",
    "The essense of the scoring is to reward the bets that proved correct."
   ]
  },
  {
   "cell_type": "code",
   "execution_count": null,
   "metadata": {
    "collapsed": true
   },
   "outputs": [],
   "source": [
    "# code from Challenge 4 and modify it"
   ]
  },
  {
   "cell_type": "markdown",
   "metadata": {},
   "source": [
    "## Challenge 7: Final version of the Hand Class\n",
    "\n",
    "Let's complete how well the Hand knows to evaluate Poker hands.  Again, a quick summary of Poker hands: https://www.poker.org/poker-hands-ranking-chart/\n",
    "\n",
    "### Implement the rarer types of Poker hand. Then update the \"beats\" method.\n",
    "\n"
   ]
  },
  {
   "cell_type": "code",
   "execution_count": null,
   "metadata": {
    "collapsed": true
   },
   "outputs": [],
   "source": [
    "class Hand:\n",
    "    \n",
    "    # copy methods from Challenge 5, except for 'beats'\n",
    "    \n",
    "    def straight(self):\n",
    "        # If Hand has a straight (five cards with consecutive rank),\n",
    "        # returns the highest Card of the five,\n",
    "        # otherwise returns None\n",
    "        pass\n",
    "    \n",
    "    def flush(self):\n",
    "        # If Hand has a flush (five cards with same suit),\n",
    "        # returns the highest Card of the five,\n",
    "        # otherwise returns None\n",
    "        pass\n",
    "    \n",
    "    def straight_flush(self):\n",
    "        # If Hand has a straight flush (five cards with same suit and consecutive rank),\n",
    "        # returns the highest Card of the five,\n",
    "        # otherwise returns None\n",
    "        pass\n",
    "    \n",
    "    def four_of_a_kind(self):\n",
    "        # If Hand has four-of-a-kind (four cards with same rank),\n",
    "        # returns the highest Card of the four,\n",
    "        # otherwise returns None\n",
    "        pass\n",
    "    \n",
    "    def full_house(self):\n",
    "        # If Hand has a full house (three cards with same rank, and another pair with same rank),\n",
    "        # returns the highest Card of the three-of-a-kind,\n",
    "        # otherwise returns None\n",
    "        pass\n",
    "    \n",
    "    def beats(self, other):\n",
    "        # update this method from Challenge 5\n",
    "        pass\n",
    "    "
   ]
  },
  {
   "cell_type": "code",
   "execution_count": null,
   "metadata": {
    "collapsed": true
   },
   "outputs": [],
   "source": [
    "# test your Hand class here\n"
   ]
  },
  {
   "cell_type": "markdown",
   "metadata": {},
   "source": [
    "## Challenge 8: Final version of Poker Solitaire\n",
    "\n",
    "Re-run the code you wrote for Challenge 6. Your code should still work, but now it should recognise all the possible kinds of Poker hands. If it doesn't work, fix it so that it works with the new Hand class.\n",
    "\n",
    "That's it!"
   ]
  },
  {
   "cell_type": "code",
   "execution_count": null,
   "metadata": {
    "collapsed": true
   },
   "outputs": [],
   "source": [
    "# code from Challenge 6."
   ]
  }
 ],
 "metadata": {
  "kernelspec": {
   "display_name": "Python 3",
   "language": "python",
   "name": "python3"
  },
  "language_info": {
   "codemirror_mode": {
    "name": "ipython",
    "version": 3
   },
   "file_extension": ".py",
   "mimetype": "text/x-python",
   "name": "python",
   "nbconvert_exporter": "python",
   "pygments_lexer": "ipython3",
   "version": "3.6.3"
  }
 },
 "nbformat": 4,
 "nbformat_minor": 2
}
