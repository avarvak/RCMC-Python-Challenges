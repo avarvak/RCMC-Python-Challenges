{
 "cells": [
  {
   "cell_type": "markdown",
   "metadata": {},
   "source": [
    "# Text Wordle challenges\n",
    "\n",
    "### Requirement: Do the Hangman challenge first.\n",
    "\n",
    "In Wordle, the player has six chances to guess a five-letter target word.  The player's guess must be a valid five-letter word, and the feedback for each letter is: \n",
    "\n",
    "* <font color='red'> **red** </font> if the letter is in the target word and is in the correct place; \n",
    "* <font color='blue'> **blue** </font> if the letter is in the target word but it's in the wrong place;\n",
    "* <font color='gray'> **gray** </font> if the letter is not in the target word.\n",
    "\n",
    "## Pseudo-code for Wordle\n",
    "\n",
    "* Get a list of five-letter words.\n",
    "* Pick the target word.  (Let's call it target_word.)\n",
    "* Number of guesses left is 6\n",
    "* While target word isn't guessed and number of guesses is more than 0:\n",
    "    * Get a guess, and make sure it's a valid five-letter word. (Let's call it guess_word)\n",
    "        * Keep asking the player for a valid five-letter word until you get one.\n",
    "    * Get the display word, where each letter is colored according to the rules described above. (Let's call it the display_word)\n",
    "    * Print out the display_word  \n",
    "* (Once out of the loop:)\n",
    "* If the player fully guessed the target_word, congratulate the player.\n",
    "* Otherwise reveal the target_word, and taunt the player.\n",
    "    \n",
    "Like you did for Hangman, you'll write the necessary parts of this code as separate functions, and then use those functions to write the code for the Wordle app."
   ]
  },
  {
   "cell_type": "markdown",
   "metadata": {},
   "source": [
    "## Challenge 1:  \"Get a list of five-letter words\"\n",
    "\n",
    "TL/DR: <font color='red'> Write **get_wordlist()** function that returns a list of five-letter words. </font>\n",
    "\n",
    "The file \"common5words.txt\" contains over three thousand most common five-letter words.  When you wrote **pick_a_word()** for Hangman, you had to create a list of words from a file.  Adapt that code here."
   ]
  },
  {
   "cell_type": "code",
   "execution_count": 3,
   "metadata": {},
   "outputs": [
    {
     "name": "stdout",
     "output_type": "stream",
     "text": [
      "[]\n"
     ]
    }
   ],
   "source": [
    "def get_wordlist():\n",
    "    allwords = []\n",
    "    return allwords\n",
    "\n",
    "# test the function\n",
    "wordlist = get_wordlist()\n",
    "print(wordlist[:10])   # print up to the first ten elements of the list"
   ]
  },
  {
   "cell_type": "markdown",
   "metadata": {},
   "source": [
    "## Challenge 2:  \"Pick the target word\"\n",
    "\n",
    "TL/DR: <font color='red'> Write **pick_a_word(wordlist)** function that takes a list of words and returns a randomly-selected word. </font>\n",
    "\n",
    "**Hint**: you will need to import something from the random module.  Review how you wrote the **pick_a_word()** function in Hangman."
   ]
  },
  {
   "cell_type": "code",
   "execution_count": null,
   "metadata": {
    "collapsed": true
   },
   "outputs": [],
   "source": [
    "def pick_a_word(wordlist):\n",
    "    word = wordlist[0]\n",
    "    return word\n",
    "\n",
    "# test the function\n",
    "wordlist = [\"apple\", \"odors\", \"cameo\", \"xerox\"]\n",
    "word = pick_a_word(wordlist)\n",
    "print(word)   "
   ]
  },
  {
   "cell_type": "markdown",
   "metadata": {},
   "source": [
    "## Challenge 3:  \"Get player's guess\"\n",
    "\n",
    "TL/DR: <font color='red'> Write **get_guess(wordlist)** function that takes a list of words.  The function keeps asking the player for a guess until the user types in one of the words in the wordlist.  The function returns that word. </font>\n",
    "\n",
    "For Hangman, you wrote the **get_guess()** function which makes sure that the player's guess is a single character.  Now you will need to make sure that the player's guess is a five-letter word that's in the wordlist obtained from the \"common5words.txt\" file.\n",
    "\n",
    "**Hint**: once you get player's input, compare it to each word in the wordlist.  Return only if there is a match.\n",
    "\n"
   ]
  },
  {
   "cell_type": "code",
   "execution_count": null,
   "metadata": {
    "collapsed": true
   },
   "outputs": [],
   "source": [
    "def get_guess(wordlist):\n",
    "    guess = input(\"Guess: \")\n",
    "    return guess\n",
    "\n",
    "# test the function\n",
    "wordlist = [\"apple\", \"odors\", \"cameo\", \"xerox\"]\n",
    "guess = get_guess(wordlist)\n",
    "print(guess)  "
   ]
  },
  {
   "cell_type": "markdown",
   "metadata": {},
   "source": [
    "## Challenge 4:  \"Get the display word\"\n",
    "\n",
    "TL/DR: <font color='red'> Write **get_display(guess_word, target_word)** function that takes two five-letter words and returns colored text. </font>\n",
    "\n",
    "Below is a function **colored(r,g,b,text)**. r,g,b stand for red, green, and blue, and must be integers from 0 to 255.  The function takes those values and a text string, and returns a the same text string but of the specified color.\n",
    "\n",
    "Use this function to write **get_display(guess_word, target_word)** function where each letter corresponds to the letter in the guess_word, but the letter's color depends on where that letter is in the target_word:\n",
    "\n",
    "* <font color='red'> **red** </font> if the letter is in the target_word and is in that very spot; \n",
    "* <font color='blue'> **blue** </font> if the letter is in the target_word but it's in a different spot;\n",
    "* <font color='gray'> **gray** </font> if the letter is not in the target word.\n",
    "\n",
    "**Hint**: \n",
    "1. Play with the **colored** function a bit to figure out which values for r,g,b will get you red, blue, and gray text.\n",
    "2. Remember that you can build a string of text one letter at a time: \"above\" is \"\" + \"a\" + \"b\" + \"o\" + \"v\" + \"e\".\n",
    "\n"
   ]
  },
  {
   "cell_type": "code",
   "execution_count": 4,
   "metadata": {},
   "outputs": [
    {
     "name": "stdout",
     "output_type": "stream",
     "text": [
      "\u001b[38;2;0;255;255mabove\u001b[0m\n"
     ]
    }
   ],
   "source": [
    "def colored(r, g, b, text):\n",
    "    return f\"\\033[38;2;{r};{g};{b}m{text}\\033[0m\"\n",
    "\n",
    "def get_display(guess_word, target_word):\n",
    "    display = colored(0, 255, 255, guess_word)\n",
    "    return display\n",
    "\n",
    "# test the functions\n",
    "word = get_display(\"above\", \"arrow\")\n",
    "print(word)"
   ]
  },
  {
   "cell_type": "markdown",
   "metadata": {},
   "source": [
    "## Challenge 5:  \"Get the display word\"\n",
    "\n",
    "TL/DR: <font color='red'> Write the Wordle app. </font>\n",
    "\n",
    "Time to put it all together! Copy the functions you have written in Challenges 1-4, and any import statements you made.  Then use those functions to code up the app for Wordle.\n",
    "\n",
    "For reference, here's the pseudo-code:\n",
    "\n",
    "* Get a list of five-letter words.\n",
    "* Pick the target word.  (Let's call it target_word.)\n",
    "* Number of guesses left is 6\n",
    "* While target word isn't guessed and number of guesses is more than 0:\n",
    "    * Get a guess, and make sure it's a valid five-letter word. (Let's call it guess_word)\n",
    "        * Keep asking the player for a valid five-letter word until you get one.\n",
    "    * Get the display word, where each letter is colored according to the rules described above. (Let's call it the display_word)\n",
    "    * Print out the display_word  \n",
    "* (Once out of the loop:)\n",
    "* If the player fully guessed the target_word, congratulate the player.\n",
    "* Otherwise reveal the target_word, and taunt the player."
   ]
  },
  {
   "cell_type": "code",
   "execution_count": null,
   "metadata": {
    "collapsed": true
   },
   "outputs": [],
   "source": [
    "# remember to paste all your functions and import statements here!\n"
   ]
  }
 ],
 "metadata": {
  "kernelspec": {
   "display_name": "Python 3",
   "language": "python",
   "name": "python3"
  },
  "language_info": {
   "codemirror_mode": {
    "name": "ipython",
    "version": 3
   },
   "file_extension": ".py",
   "mimetype": "text/x-python",
   "name": "python",
   "nbconvert_exporter": "python",
   "pygments_lexer": "ipython3",
   "version": "3.6.3"
  }
 },
 "nbformat": 4,
 "nbformat_minor": 2
}
