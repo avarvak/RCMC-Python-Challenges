{
 "cells": [
  {
   "cell_type": "markdown",
   "metadata": {},
   "source": [
    "# Hangman Challenges II: Repeat play\n",
    "\n",
    "### Required: finish the Hangman challenge.\n",
    "\n",
    "### Objective: upgrade the Hangman app to allow the player to play multiple times.\n",
    "\n",
    "In the Hangman challenge, you made an app that can play hangman once.  In this challenge, you will upgrade the app so that the player can play multiple times.\n",
    "\n",
    "### Pseudo-code\n",
    "\n",
    "* Get a list of words\n",
    "* So far, no wins or loses\n",
    "* While player wants to play:\n",
    "    * pick the target word from the word list\n",
    "    * play one game with that target word\n",
    "    * update the counts of wins and loses\n",
    "    * report percentage of games the player won so far\n",
    "    * ask if player wants to play again\n",
    "* (Outside of the loop:)\n",
    "* Say goodbye"
   ]
  },
  {
   "cell_type": "markdown",
   "metadata": {},
   "source": [
    "## Challenge 1: \"Get a list of words\" and \"pick a word\"\n",
    "\n",
    "TL/DR: <font color='red'>  write two separate functions: \n",
    "1. **get_wordlist(filename)** takes the name of a file (like \"hangman_words.txt\") and returns the list of words from that file.\n",
    "2. **pick_a_word(wordlist)** returns a randomly chosen word from the given wordlist. </font>\n",
    "\n",
    "If the player is playing the hangman game many times, it is inefficient to get a wordlist from the file every single game.  It's enough to do it once.\n",
    "\n",
    "We also want the get_wordlist function to be more flexible, so if you find a better text file with words for the game, all you need to change in the code is the name of the file.\n",
    "\n",
    "Adapt the code from the function **pick_a_word()** you wrote in Hangman challenge.\n"
   ]
  },
  {
   "cell_type": "code",
   "execution_count": 1,
   "metadata": {},
   "outputs": [],
   "source": [
    "from random import randint\n",
    "\n",
    "def get_wordlist(filename):\n",
    "    pass  # Change with your code\n",
    "\n",
    "def pick_a_word(wordlist):\n",
    "    pass  # Change with your code\n",
    "\n",
    "# test the functions below\n"
   ]
  },
  {
   "cell_type": "markdown",
   "metadata": {},
   "source": [
    "## Challenge 2: \"play again\"\n",
    "\n",
    "TL/DR: <font color='red'> write **play_again()** function, which returns True if player wants to play again, False otherwise. </font>\n",
    "\n",
    "Ask the player, and interpret the player's response."
   ]
  },
  {
   "cell_type": "code",
   "execution_count": null,
   "metadata": {
    "collapsed": true
   },
   "outputs": [],
   "source": [
    "def play_again():\n",
    "    pass  # Change with your code\n",
    "\n",
    "# test the function below\n"
   ]
  },
  {
   "cell_type": "markdown",
   "metadata": {},
   "source": [
    "## Challenge 3: \"report statistics\"\n",
    "\n",
    "TL/DR: <font color='red'> write **report_game_stats(wins, loses)** function, which takes the number of wins and the number of loses so far and reports to the player what percentage of the games the player won. </font>\n",
    "\n",
    "For extra challenge, you can also report the average number of guesses it took to win."
   ]
  },
  {
   "cell_type": "code",
   "execution_count": null,
   "metadata": {
    "collapsed": true
   },
   "outputs": [],
   "source": [
    "def report_game_stats(wins, loses):\n",
    "    pass  # Change with your code\n",
    "\n",
    "# test the function below\n"
   ]
  },
  {
   "cell_type": "markdown",
   "metadata": {},
   "source": [
    "## Challenge 4: \"play one game\"\n",
    "\n",
    "TL/DR: <font color='red'> Write **play_one_game(target_word)** function that takes the given target word and plays one game of hangman with it. </font>\n",
    "\n",
    "Repurpose the code you wrote in Hangman Challenge 8 to write this function.  You can copy all the functions you wrote that you'll need here.\n",
    "\n",
    "Remember: the target word is already chosen\n",
    "\n"
   ]
  },
  {
   "cell_type": "code",
   "execution_count": null,
   "metadata": {
    "collapsed": true
   },
   "outputs": [],
   "source": [
    "# copy here whatever functions you need from Hangman challenge\n",
    "\n",
    "def play_one_game(target_word):\n",
    "    pass  # Change with your code\n",
    "\n",
    "# test the function below"
   ]
  },
  {
   "cell_type": "markdown",
   "metadata": {},
   "source": [
    "## Challenge 5: Put it all together\n",
    "\n",
    "TL/DR: <font color='red'> Write the hangman app that can be played multiple times. </font>\n",
    "\n",
    "You have written all the necessary pieces!  Now copy all the import statements and function definitions you need, and write the app.\n"
   ]
  },
  {
   "cell_type": "code",
   "execution_count": 2,
   "metadata": {},
   "outputs": [],
   "source": [
    "# copy here whatever import statements you need\n",
    "\n",
    "# copy here whatever functions you need\n",
    "\n",
    "# write the code for the app\n"
   ]
  }
 ],
 "metadata": {
  "kernelspec": {
   "display_name": "Python 3",
   "language": "python",
   "name": "python3"
  },
  "language_info": {
   "codemirror_mode": {
    "name": "ipython",
    "version": 3
   },
   "file_extension": ".py",
   "mimetype": "text/x-python",
   "name": "python",
   "nbconvert_exporter": "python",
   "pygments_lexer": "ipython3",
   "version": "3.6.3"
  }
 },
 "nbformat": 4,
 "nbformat_minor": 2
}
