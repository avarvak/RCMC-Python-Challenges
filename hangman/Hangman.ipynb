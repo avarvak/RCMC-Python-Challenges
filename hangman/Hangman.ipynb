{
 "cells": [
  {
   "cell_type": "markdown",
   "metadata": {},
   "source": [
    "# Hangman challenges\n",
    "\n",
    "By the end of these challenges, you will have a working text-based hangman-game app.\n",
    "\n",
    "Learning goals:\n",
    "* Writing and using one's own functions\n",
    "* Mastering the essentials of strings\n",
    "* Mastering loops\n",
    "* Getting a random element from a list\n",
    "\n",
    "\n",
    "## Pseudo-code\n",
    "\n",
    "Let's sketch how to play the hangman game from the perspective of the person who is giving the challenge to another player:\n",
    "\n",
    "* Pick a word.  (Let's call this the target_word.)\n",
    "* Mask all letters in target_word.  (Let's call this the display_word.)\n",
    "* So far, number of wrong guesses is 0.\n",
    "* While the player hasn't fully guessed the target_word and the number of wrong guesses is less than 6:\n",
    "    * Display the display_word.\n",
    "    * Ask the player for a letter.\n",
    "    * If the letter is in the target_word:\n",
    "        * Update the display_word to reveal all instances of that letter.\n",
    "    * Otherwise:\n",
    "        * Increase the number of wrong guesses.\n",
    "* (Once out of the loop:)\n",
    "* If the player fully guessed the target_word, congratulate the player.\n",
    "* Otherwise reveal the target_word, and taunt the player.\n",
    "\n",
    "Doesn't this description sound like code?  It's a *pseudo-code*. Written like step-by-step instructions for a human, it gives an outline for our main code, assuming we can figure out how to do the specific pieces like \"Pick a word\" and \"Mask all the letters in target_word\".\n",
    "\n",
    "Let's first write functions that do those specific pieces."
   ]
  },
  {
   "cell_type": "markdown",
   "metadata": {},
   "source": [
    "## Challenge 1: \"Pick a word\"\n",
    "\n",
    "TL/DR: <font color='red'> Rewrite **pick_a_word()** so that it returns a randomly chosen word from wordlist. </font>\n",
    "\n",
    "\n",
    "The function **pick_a_word()** right now always returns the first word in wordlist: the 0 in the square brackets tells the wordlist to give its first element.  If 0 were changed to 1, that would indicate the second element, and so on.\n",
    "\n",
    "That's boring.  It would be better if the function returned a randomly picked word.\n",
    "\n",
    "The function **randint(A,B)** that's already imported from the \"random\" module returns a randomly picked integer that's at least as big as A and at most as small as B.  (A and B must be integers.)\n",
    "\n",
    "\n",
    "\n",
    "\n"
   ]
  },
  {
   "cell_type": "code",
   "execution_count": 1,
   "metadata": {},
   "outputs": [
    {
     "name": "stdout",
     "output_type": "stream",
     "text": [
      "challenge\n"
     ]
    }
   ],
   "source": [
    "from random import randint\n",
    "\n",
    "def pick_a_word():\n",
    "    wordlist = [\"challenge\", \"elevator\", \"gargantuan\", \"jejune\", \"logarithm\", \"redolent\"]\n",
    "    word = wordlist[0]\n",
    "    return word\n",
    "\n",
    "# test the function\n",
    "target_word = pick_a_word()\n",
    "print(target_word)"
   ]
  },
  {
   "cell_type": "markdown",
   "metadata": {},
   "source": [
    "## Challenge 2: \"Pick a word\", but better\n",
    "\n",
    "TL/DR: <font color='red'> Rewrite **pick_a_word()** so that it returns a randomly chosen word from the file \"hangman_words.txt\". </font>\n",
    "\n",
    "REQUIRED: Have file \"hangman_words.txt\" in the same directory as this Jupyter Notebook file.\n",
    "\n",
    "It would be good to have many words to choose from, and to not have them written in directly into our code.  The file \"hangman_words.txt\" has a lot of words, one word per line.\n",
    "\n",
    "The code below stores all those words into a list.  That wordlist is much bigger than the one we had in Challege 1.\n",
    "\n",
    "Copy your code from Challenge 1, then incorporate this new code into your pick_a_word() function.  Test it to make sure that any word in the list can get picked, not just the first six.\n",
    "\n",
    "**Hint**: you can get the length of a list by using the **len()** function.\n"
   ]
  },
  {
   "cell_type": "code",
   "execution_count": 8,
   "metadata": {
    "collapsed": true
   },
   "outputs": [],
   "source": [
    "f = open(\"hangman_words.txt\", \"r\")     # access the file \"hangman_words.txt\" in the same directory, as read-only\n",
    "fulltext = f.read()                    # get the full text from the file\n",
    "wordlist = fulltext.split('\\n')        # create a list of all the lines.\n",
    "f.close()                              # close access to the file"
   ]
  },
  {
   "cell_type": "code",
   "execution_count": null,
   "metadata": {
    "collapsed": true
   },
   "outputs": [],
   "source": [
    "# Copy your code from Challenge 1, then incorporate the code above into your pick_a_word() function.\n"
   ]
  },
  {
   "cell_type": "markdown",
   "metadata": {},
   "source": [
    "## Challenge 3: \"Mask all letters in a word\"\n",
    "\n",
    "TL/DR: <font color='red'> Write **mask_all_letters(word)** function that takes a word and returns a string of '-' characters same length as the word. </font>\n",
    "\n",
    "The function written bellow doesn't really work.  It only works for words with exactly 9 characters.  Rewrite the function so that it works for any word.\n",
    "\n",
    "**Hints:**\n",
    "* You can find out the length of the word using len() function.\n",
    "* You can build a string one letter at a time.  For example, \"abcde\" is the same as \"\" + \"a\" + \"b\" + \"c\" + \"d\" + \"e\".\n",
    "* A FOR loop may come in handy here.\n",
    "\n",
    "\n"
   ]
  },
  {
   "cell_type": "code",
   "execution_count": null,
   "metadata": {
    "collapsed": true
   },
   "outputs": [],
   "source": [
    "def mask_all_letters(word):\n",
    "    masked = \"---------\"\n",
    "    return masked\n",
    "\n",
    "# test the function\n",
    "target_word = \"befuddled\"\n",
    "display_word = mask_all_letters(target_word)\n",
    "print(display_word)"
   ]
  },
  {
   "cell_type": "markdown",
   "metadata": {},
   "source": [
    "## Challenge 4: \"Get player's guess letter\"\n",
    "\n",
    "TL/DR: <font color='red'> Write **get_guess()** function that asks the player to guess one letter, and returns only if the player types in one lowercase letter.  The function should keep asking the player to input one letter until the player does so. </font>\n",
    "\n",
    "The function written bellow isn't full-proof, because it allows the player to input many characters, or even none at all.  Fix it.\n",
    "\n",
    "**Hint:** A WHILE loop would be really handy here.\n",
    "\n",
    "\n"
   ]
  },
  {
   "cell_type": "code",
   "execution_count": 1,
   "metadata": {},
   "outputs": [
    {
     "ename": "SyntaxError",
     "evalue": "unexpected EOF while parsing (<ipython-input-1-09852af1c80c>, line 1)",
     "output_type": "error",
     "traceback": [
      "\u001b[1;36m  File \u001b[1;32m\"<ipython-input-1-09852af1c80c>\"\u001b[1;36m, line \u001b[1;32m1\u001b[0m\n\u001b[1;33m    def get_guess():\u001b[0m\n\u001b[1;37m                    ^\u001b[0m\n\u001b[1;31mSyntaxError\u001b[0m\u001b[1;31m:\u001b[0m unexpected EOF while parsing\n"
     ]
    }
   ],
   "source": [
    "def get_guess():\n",
    "    guess = input(\"Guess a letter: \")\n",
    "    return guess\n",
    "\n",
    "# test the function\n",
    "letter = get_guess()\n",
    "print(letter)"
   ]
  },
  {
   "cell_type": "markdown",
   "metadata": {},
   "source": [
    "## Challenge 5: \"Check if the letter is in target_word\"\n",
    "\n",
    "TL/DR: <font color='red'> Write **is_letter_in_word(word, letter)** function that returns True or False depending if the given word contains the given letter. </font>\n",
    "\n",
    "The function written bellow doesn't work.  It only checks if the given letter is the same as the first character of the word.  Rewrite the function so that it works.\n",
    "\n",
    "**Hint:** A FOR loop that goes through each of the letters in the word may come in handy here.\n",
    "\n",
    "*P.S. There are Python string methods that do this tast.*\n"
   ]
  },
  {
   "cell_type": "code",
   "execution_count": 10,
   "metadata": {},
   "outputs": [
    {
     "name": "stdout",
     "output_type": "stream",
     "text": [
      "The letter a is NOT in the word challenge\n"
     ]
    }
   ],
   "source": [
    "def is_letter_in_word(word, letter):\n",
    "    flag = False\n",
    "    if letter == word[0]:\n",
    "        flag = True\n",
    "    return flag\n",
    "\n",
    "# test the function\n",
    "target_word = \"challenge\"\n",
    "guess = \"a\"\n",
    "if is_letter_in_word(target_word, guess):\n",
    "    print(\"The letter\", guess, \"is in the word\", target_word)\n",
    "else:\n",
    "    print(\"The letter\", guess, \"is NOT in the word\", target_word)"
   ]
  },
  {
   "cell_type": "markdown",
   "metadata": {},
   "source": [
    "## Challenge 6: \"Update display_word\"\n",
    "\n",
    "TL/DR: <font color='red'> Write **update_display(display, target, letter)** function that returns an updated display_word, with all instances of the letter appearing where they do in target_word. </font>\n",
    "\n",
    "We need a way to reveal the letters that were correctly guessed.  For example, if the target_word is \"salary\", diplay_word is \"s---r-\", and the guessed letter is \"a\", we need to have a way to get the updated display_word \"sa-ar-\"\n",
    "\n",
    "The function below does not work.  It keeps returning the same thing as display word.  Rewrite the function so that it works as it's supposed to.  Run several different tests to make sure it works.  Try: target_word = \"opportunity\"; display_word = \"----r-un--y\"; and guess = \"i\", \"o\", \"p\", or \"t\".\n",
    "\n",
    "\n"
   ]
  },
  {
   "cell_type": "code",
   "execution_count": null,
   "metadata": {
    "collapsed": true
   },
   "outputs": [],
   "source": [
    "def update_display(display, target, letter):\n",
    "    new_display = \"\"\n",
    "    for i in range(len(display)):\n",
    "        new_display = new_display + display[i]\n",
    "    return new_display\n",
    "\n",
    "# test the function\n",
    "target_word = \"salary\"\n",
    "display_word = \"s---r-\"\n",
    "guess = \"a\"\n",
    "new_display_word = update_display(display_word, target_word, guess)\n",
    "print(new_display_word)"
   ]
  },
  {
   "cell_type": "markdown",
   "metadata": {},
   "source": [
    "## Challenge 7: \"Check if target_word is fully guessed\"\n",
    "\n",
    "TL/DR: <font color='red'> Write **target_fully_guessed(display)** function that returns True if all the letters are unmasked, False otherwise. </font>\n",
    "\n",
    "If all the letters in the display_word are unmasked, we know that the player has guessed all the letters.\n",
    "\n",
    "The function below doesn't really work.  It only checks whether the first character in the display is '-'.  Rewrite the function so that it works as intended.\n"
   ]
  },
  {
   "cell_type": "code",
   "execution_count": 11,
   "metadata": {},
   "outputs": [
    {
     "name": "stdout",
     "output_type": "stream",
     "text": [
      "False for -alary\n",
      "True for s-l-ry\n",
      "True for salary\n"
     ]
    }
   ],
   "source": [
    "def target_fully_guessed(display):\n",
    "    flag = True\n",
    "    if display[0] == \"-\":\n",
    "        flag = False\n",
    "    return flag\n",
    "\n",
    "# test the function\n",
    "display_word = \"-alary\"\n",
    "print(target_fully_guessed(display_word), \"for\", display_word)\n",
    "display_word = \"s-l-ry\"\n",
    "print(target_fully_guessed(display_word), \"for\", display_word)\n",
    "display_word = \"salary\"\n",
    "print(target_fully_guessed(display_word), \"for\", display_word)"
   ]
  },
  {
   "cell_type": "markdown",
   "metadata": {},
   "source": [
    "## Challenge 8: Put it all together\n",
    "\n",
    "TL/DR: <font color='red'> Write the hangman app. </font>\n",
    "\n",
    "You have written all the necessary pieces!  Copy the code of the functions you wrote in Challenges 2--7, and use those functions to write the hangman app in full.\n",
    "\n",
    "For reference, here's the pseudo-code:\n",
    "\n",
    "* Pick a word.  (Let's call this the target_word.)\n",
    "* Mask all letters in target_word.  (Let's call this the display_word.)\n",
    "* So far, number of wrong guesses is 0.\n",
    "* While the player hasn't fully guessed the target_word and the number of wrong guesses is less than 6:\n",
    "    * Display the display_word.\n",
    "    * Ask the player for a letter.\n",
    "    * If the letter is in the target_word:\n",
    "        * Update the display_word to reveal all instances of that letter.\n",
    "    * Otherwise:\n",
    "        * Increase the number of wrong guesses.\n",
    "* (Once out of the loop:)\n",
    "* If the player fully guessed the target_word, congratulate the player.\n",
    "* Otherwise reveal the target_word, and taunt the player.\n"
   ]
  },
  {
   "cell_type": "code",
   "execution_count": 3,
   "metadata": {},
   "outputs": [
    {
     "name": "stdout",
     "output_type": "stream",
     "text": [
      "Before the loop, guesses left: 6\n",
      "In the loop, guesses left: 5\n",
      "In the loop, guesses left: 4\n",
      "In the loop, guesses left: 3\n",
      "In the loop, guesses left: 2\n",
      "In the loop, guesses left: 1\n",
      "In the loop, guesses left: 0\n",
      "Out of the loop, guesses left: 0\n"
     ]
    }
   ],
   "source": [
    "from random import randint\n",
    "\n",
    "def pick_a_word():\n",
    "    pass # replace with your code from Challenge 2\n",
    "\n",
    "def mask_all_letters(word):\n",
    "    pass # replace with your code from Challenge 3\n",
    "\n",
    "def get_guess():\n",
    "    pass # replace with your code from Challenge 4\n",
    "\n",
    "def is_letter_in_word(word, letter):\n",
    "    pass # replace with your code from Challenge 5\n",
    "\n",
    "def update_display(display, target, letter):\n",
    "    pass # replace with your code from Challenge 6\n",
    "\n",
    "def target_fully_guessed(display):\n",
    "    pass # replace with your code from Challenge 7\n",
    "\n",
    "# Modify the code below to make the hangman app.\n",
    "# Think especially about what needs to happen before the WHILE loop,\n",
    "# during the WHILE loop, and after the WHILE loop.\n",
    "\n",
    "\n",
    "guesses_left = 6\n",
    "print(\"Before the loop, guesses left:\", guesses_left)\n",
    "\n",
    "while guesses_left > 0:\n",
    "    guesses_left = guesses_left - 1\n",
    "    print(\"In the loop, guesses left:\", guesses_left)\n",
    "    \n",
    "print(\"Out of the loop, guesses left:\", guesses_left)\n"
   ]
  },
  {
   "cell_type": "code",
   "execution_count": null,
   "metadata": {
    "collapsed": true
   },
   "outputs": [],
   "source": []
  }
 ],
 "metadata": {
  "kernelspec": {
   "display_name": "Python 3",
   "language": "python",
   "name": "python3"
  },
  "language_info": {
   "codemirror_mode": {
    "name": "ipython",
    "version": 3
   },
   "file_extension": ".py",
   "mimetype": "text/x-python",
   "name": "python",
   "nbconvert_exporter": "python",
   "pygments_lexer": "ipython3",
   "version": "3.6.3"
  }
 },
 "nbformat": 4,
 "nbformat_minor": 2
}
